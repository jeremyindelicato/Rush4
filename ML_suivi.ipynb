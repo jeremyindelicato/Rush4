{
 "cells": [
  {
   "cell_type": "markdown",
   "metadata": {},
   "source": [
    "# 🤖 Suivi du Projet Machine Learning - Segmentation Clients\n",
    "## Prédiction de Réponse aux Campagnes Marketing\n",
    "\n",
    "**Objectif :** Construire un modèle prédictif pour prédire la probabilité qu'un client réponde à une campagne future.\n",
    "\n",
    "**Dataset :** ML_DataSet.csv (2237 clients × 49 features)\n",
    "\n",
    "**Cible :** Reponse_Derniere_Campagne (0/1)\n",
    "\n",
    "---"
   ]
  },
  {
   "cell_type": "markdown",
   "metadata": {},
   "source": [
    "## 📊 Phase 1 : Exploration et Préparation des Données"
   ]
  },
  {
   "cell_type": "code",
   "execution_count": null,
   "metadata": {},
   "outputs": [],
   "source": [
    "# Imports nécessaires\n",
    "import pandas as pd\n",
    "import numpy as np\n",
    "import matplotlib.pyplot as plt\n",
    "import seaborn as sns\n",
    "from datetime import datetime\n",
    "\n",
    "# Configuration\n",
    "plt.style.use('seaborn-v0_8-darkgrid')\n",
    "sns.set_palette(\"husl\")\n",
    "pd.set_option('display.max_columns', None)\n",
    "\n",
    "print(\"✅ Bibliothèques importées avec succès\")\n",
    "print(f\"📅 Date de dernière mise à jour : {datetime.now().strftime('%Y-%m-%d %H:%M:%S')}\")"
   ]
  },
  {
   "cell_type": "code",
   "execution_count": null,
   "metadata": {},
   "outputs": [],
   "source": [
    "# Chargement du dataset\n",
    "df = pd.read_csv('ML_DataSet.csv')\n",
    "\n",
    "print(\"=\" * 70)\n",
    "print(\"INFORMATIONS GÉNÉRALES DU DATASET\")\n",
    "print(\"=\" * 70)\n",
    "print(f\"Nombre de lignes (clients) : {df.shape[0]}\")\n",
    "print(f\"Nombre de colonnes (features) : {df.shape[1]}\")\n",
    "print(f\"Taille mémoire : {df.memory_usage(deep=True).sum() / 1024**2:.2f} MB\")\n",
    "print(\"\\n\" + \"=\" * 70)\n",
    "\n",
    "# Aperçu des données\n",
    "df.head()"
   ]
  },
  {
   "cell_type": "markdown",
   "metadata": {},
   "source": [
    "### 🎯 Analyse de la Variable Cible"
   ]
  },
  {
   "cell_type": "code",
   "execution_count": null,
   "metadata": {},
   "outputs": [],
   "source": [
    "# Distribution de la variable cible\n",
    "target_col = 'Reponse_Derniere_Campagne'\n",
    "target_dist = df[target_col].value_counts()\n",
    "target_pct = df[target_col].value_counts(normalize=True) * 100\n",
    "\n",
    "print(\"=\" * 70)\n",
    "print(\"DISTRIBUTION DE LA VARIABLE CIBLE\")\n",
    "print(\"=\" * 70)\n",
    "print(f\"Variable : {target_col}\\n\")\n",
    "for classe in sorted(df[target_col].unique()):\n",
    "    count = target_dist[classe]\n",
    "    pct = target_pct[classe]\n",
    "    print(f\"  Classe {classe} : {count:4d} clients ({pct:.2f}%)\")\n",
    "\n",
    "ratio_desequilibre = target_dist[0] / target_dist[1]\n",
    "print(f\"\\n⚠️  Ratio de déséquilibre : {ratio_desequilibre:.2f}:1\")\n",
    "if ratio_desequilibre > 3:\n",
    "    print(\"   → Déséquilibre IMPORTANT détecté\")\n",
    "    print(\"   → Stratégie recommandée : scale_pos_weight, class_weight, ou SMOTE\")\n",
    "\n",
    "# Visualisation\n",
    "fig, axes = plt.subplots(1, 2, figsize=(14, 5))\n",
    "\n",
    "# Barplot\n",
    "axes[0].bar(['Non (0)', 'Oui (1)'], target_dist.values, color=['#e74c3c', '#2ecc71'])\n",
    "axes[0].set_title('Distribution de la Variable Cible', fontsize=14, fontweight='bold')\n",
    "axes[0].set_ylabel('Nombre de clients')\n",
    "axes[0].set_xlabel('Réponse à la campagne')\n",
    "for i, v in enumerate(target_dist.values):\n",
    "    axes[0].text(i, v + 30, str(v), ha='center', fontweight='bold')\n",
    "\n",
    "# Pie chart\n",
    "colors = ['#e74c3c', '#2ecc71']\n",
    "axes[1].pie(target_dist.values, labels=['Non (0)', 'Oui (1)'], autopct='%1.1f%%', \n",
    "            startangle=90, colors=colors, textprops={'fontsize': 12, 'fontweight': 'bold'})\n",
    "axes[1].set_title('Proportion des Réponses', fontsize=14, fontweight='bold')\n",
    "\n",
    "plt.tight_layout()\n",
    "plt.show()\n",
    "\n",
    "print(\"\\n✅ Analyse de la variable cible terminée\")"
   ]
  },
  {
   "cell_type": "markdown",
   "metadata": {},
   "source": [
    "### 📋 Sélection des Features pour le Modèle"
   ]
  },
  {
   "cell_type": "code",
   "execution_count": null,
   "metadata": {},
   "outputs": [],
   "source": [
    "# Colonnes à exclure du modèle\n",
    "colonnes_a_exclure = [\n",
    "    'ID_Client',                      # Identifiant\n",
    "    'Annee_Naissance',                # Redondant avec Age_Inscription\n",
    "    'Date_Inscription',               # Format date, redondant avec Jour_Inscription_Encode\n",
    "    'Niveau_Education',               # Redondant avec Niveau_Education_Encode\n",
    "    'Statut_Marital',                 # Redondant avec Statut_Marital_Encode\n",
    "    'Statut_Marital_Texte',           # Redondant\n",
    "    'Jour_Inscription',               # Redondant avec Jour_Inscription_Encode\n",
    "    'Categorie_Age',                  # Redondant avec Categorie_Age_Encode\n",
    "    'Cout_Contact_Z',                 # Constante (toujours 3)\n",
    "    'Revenus_Z',                      # Constante (toujours 11)\n",
    "    'Reponse_Derniere_Campagne',     # TARGET (à extraire séparément)\n",
    "    'Enfants_Maison',                 # Redondant avec Total_Enfants\n",
    "    'Ados_Maison'                     # Redondant avec Total_Enfants\n",
    "]\n",
    "\n",
    "print(\"=\" * 70)\n",
    "print(\"PRÉPARATION DES FEATURES\")\n",
    "print(\"=\" * 70)\n",
    "print(f\"\\nColonnes totales : {len(df.columns)}\")\n",
    "print(f\"Colonnes à exclure : {len(colonnes_a_exclure)}\")\n",
    "print(f\"Colonnes pour le modèle : {len(df.columns) - len(colonnes_a_exclure)}\")\n",
    "\n",
    "# Créer X et y\n",
    "X = df.drop(columns=colonnes_a_exclure)\n",
    "y = df['Reponse_Derniere_Campagne']\n",
    "\n",
    "print(f\"\\n✅ X shape : {X.shape}\")\n",
    "print(f\"✅ y shape : {y.shape}\")\n",
    "\n",
    "print(\"\\n--- FEATURES SÉLECTIONNÉES ---\")\n",
    "for i, col in enumerate(X.columns, 1):\n",
    "    print(f\"{i:2d}. {col}\")\n",
    "\n",
    "# Vérifier les valeurs manquantes\n",
    "missing = X.isnull().sum()\n",
    "if missing.sum() > 0:\n",
    "    print(\"\\n⚠️  Valeurs manquantes détectées :\")\n",
    "    print(missing[missing > 0])\n",
    "else:\n",
    "    print(\"\\n✅ Aucune valeur manquante détectée\")"
   ]
  },
  {
   "cell_type": "markdown",
   "metadata": {},
   "source": [
    "### 📊 Statistiques Descriptives des Features"
   ]
  },
  {
   "cell_type": "code",
   "execution_count": null,
   "metadata": {},
   "outputs": [],
   "source": [
    "# Statistiques descriptives\n",
    "print(\"=\" * 70)\n",
    "print(\"STATISTIQUES DESCRIPTIVES\")\n",
    "print(\"=\" * 70)\n",
    "\n",
    "X.describe().T"
   ]
  },
  {
   "cell_type": "markdown",
   "metadata": {},
   "source": [
    "### 🔍 Analyse de Corrélation avec la Cible"
   ]
  },
  {
   "cell_type": "code",
   "execution_count": null,
   "metadata": {},
   "outputs": [],
   "source": [
    "# Corrélation avec la variable cible\n",
    "df_with_target = X.copy()\n",
    "df_with_target['Target'] = y\n",
    "\n",
    "correlations = df_with_target.corr()['Target'].drop('Target').sort_values(ascending=False)\n",
    "\n",
    "print(\"=\" * 70)\n",
    "print(\"TOP 15 FEATURES CORRÉLÉES AVEC LA CIBLE\")\n",
    "print(\"=\" * 70)\n",
    "print(correlations.head(15))\n",
    "\n",
    "print(\"\\n\" + \"=\" * 70)\n",
    "print(\"TOP 15 FEATURES NÉGATIVEMENT CORRÉLÉES\")\n",
    "print(\"=\" * 70)\n",
    "print(correlations.tail(15))\n",
    "\n",
    "# Visualisation\n",
    "fig, ax = plt.subplots(figsize=(10, 8))\n",
    "top_features = pd.concat([correlations.head(10), correlations.tail(10)])\n",
    "colors = ['green' if x > 0 else 'red' for x in top_features.values]\n",
    "top_features.plot(kind='barh', ax=ax, color=colors)\n",
    "ax.set_title('Top 20 Features par Corrélation avec la Cible', fontsize=14, fontweight='bold')\n",
    "ax.set_xlabel('Corrélation de Pearson')\n",
    "ax.axvline(x=0, color='black', linestyle='-', linewidth=0.8)\n",
    "plt.tight_layout()\n",
    "plt.show()\n",
    "\n",
    "print(\"\\n✅ Analyse de corrélation terminée\")"
   ]
  },
  {
   "cell_type": "markdown",
   "metadata": {},
   "source": [
    "---\n",
    "## 🤖 Phase 2 : Construction et Évaluation des Modèles\n",
    "\n",
    "### Modèles à tester :\n",
    "1. **Régression Logistique** (baseline)\n",
    "2. **Random Forest** (robuste)\n",
    "3. **XGBoost** (champion attendu)"
   ]
  },
  {
   "cell_type": "code",
   "execution_count": null,
   "metadata": {},
   "outputs": [],
   "source": [
    "# Imports pour le machine learning\n",
    "from sklearn.model_selection import train_test_split, StratifiedKFold, cross_val_score\n",
    "from sklearn.preprocessing import StandardScaler\n",
    "from sklearn.linear_model import LogisticRegression\n",
    "from sklearn.ensemble import RandomForestClassifier\n",
    "from sklearn.metrics import (\n",
    "    classification_report, \n",
    "    confusion_matrix, \n",
    "    roc_auc_score, \n",
    "    roc_curve,\n",
    "    precision_recall_curve,\n",
    "    f1_score,\n",
    "    accuracy_score\n",
    ")\n",
    "\n",
    "try:\n",
    "    from xgboost import XGBClassifier\n",
    "    xgboost_available = True\n",
    "except ImportError:\n",
    "    print(\"⚠️  XGBoost non installé. Installer avec : pip install xgboost\")\n",
    "    xgboost_available = False\n",
    "\n",
    "print(\"✅ Bibliothèques ML importées avec succès\")"
   ]
  },
  {
   "cell_type": "markdown",
   "metadata": {},
   "source": [
    "### 🔀 Split Train/Test avec Stratification"
   ]
  },
  {
   "cell_type": "code",
   "execution_count": null,
   "metadata": {},
   "outputs": [],
   "source": [
    "# Split stratifié (important pour le déséquilibre)\n",
    "X_train, X_test, y_train, y_test = train_test_split(\n",
    "    X, y, \n",
    "    test_size=0.2, \n",
    "    random_state=42, \n",
    "    stratify=y  # Maintient les proportions\n",
    ")\n",
    "\n",
    "print(\"=\" * 70)\n",
    "print(\"SPLIT TRAIN/TEST\")\n",
    "print(\"=\" * 70)\n",
    "print(f\"Train set : {X_train.shape[0]} clients ({X_train.shape[0]/len(X)*100:.1f}%)\")\n",
    "print(f\"Test set  : {X_test.shape[0]} clients ({X_test.shape[0]/len(X)*100:.1f}%)\")\n",
    "\n",
    "print(\"\\nDistribution dans Train set :\")\n",
    "print(y_train.value_counts())\n",
    "print(f\"Ratio : {y_train.value_counts()[0] / y_train.value_counts()[1]:.2f}:1\")\n",
    "\n",
    "print(\"\\nDistribution dans Test set :\")\n",
    "print(y_test.value_counts())\n",
    "print(f\"Ratio : {y_test.value_counts()[0] / y_test.value_counts()[1]:.2f}:1\")\n",
    "\n",
    "# Normalisation (utile pour Régression Logistique)\n",
    "scaler = StandardScaler()\n",
    "X_train_scaled = scaler.fit_transform(X_train)\n",
    "X_test_scaled = scaler.transform(X_test)\n",
    "\n",
    "print(\"\\n✅ Données préparées pour l'entraînement\")"
   ]
  },
  {
   "cell_type": "markdown",
   "metadata": {},
   "source": [
    "### 📊 Fonction d'Évaluation des Modèles"
   ]
  },
  {
   "cell_type": "code",
   "execution_count": null,
   "metadata": {},
   "outputs": [],
   "source": [
    "def evaluer_modele(model, X_train, X_test, y_train, y_test, nom_modele):\n",
    "    \"\"\"\n",
    "    Évalue un modèle et affiche les métriques complètes\n",
    "    \"\"\"\n",
    "    print(\"\\n\" + \"=\" * 70)\n",
    "    print(f\"ÉVALUATION : {nom_modele}\")\n",
    "    print(\"=\" * 70)\n",
    "    \n",
    "    # Entraînement\n",
    "    model.fit(X_train, y_train)\n",
    "    \n",
    "    # Prédictions\n",
    "    y_pred = model.predict(X_test)\n",
    "    y_pred_proba = model.predict_proba(X_test)[:, 1]\n",
    "    \n",
    "    # Métriques\n",
    "    accuracy = accuracy_score(y_test, y_pred)\n",
    "    f1 = f1_score(y_test, y_pred)\n",
    "    roc_auc = roc_auc_score(y_test, y_pred_proba)\n",
    "    \n",
    "    print(f\"\\n📊 Métriques Globales :\")\n",
    "    print(f\"  Accuracy  : {accuracy:.4f}\")\n",
    "    print(f\"  F1-Score  : {f1:.4f}\")\n",
    "    print(f\"  ROC-AUC   : {roc_auc:.4f}\")\n",
    "    \n",
    "    print(f\"\\n📋 Rapport de Classification :\")\n",
    "    print(classification_report(y_test, y_pred, target_names=['Non (0)', 'Oui (1)']))\n",
    "    \n",
    "    # Matrice de confusion\n",
    "    cm = confusion_matrix(y_test, y_pred)\n",
    "    \n",
    "    fig, axes = plt.subplots(1, 2, figsize=(14, 5))\n",
    "    \n",
    "    # Matrice de confusion\n",
    "    sns.heatmap(cm, annot=True, fmt='d', cmap='Blues', ax=axes[0],\n",
    "                xticklabels=['Non (0)', 'Oui (1)'],\n",
    "                yticklabels=['Non (0)', 'Oui (1)'])\n",
    "    axes[0].set_title(f'Matrice de Confusion - {nom_modele}', fontweight='bold')\n",
    "    axes[0].set_ylabel('Vraie Classe')\n",
    "    axes[0].set_xlabel('Classe Prédite')\n",
    "    \n",
    "    # Courbe ROC\n",
    "    fpr, tpr, _ = roc_curve(y_test, y_pred_proba)\n",
    "    axes[1].plot(fpr, tpr, label=f'{nom_modele} (AUC = {roc_auc:.3f})', linewidth=2)\n",
    "    axes[1].plot([0, 1], [0, 1], 'k--', label='Aléatoire (AUC = 0.5)')\n",
    "    axes[1].set_xlabel('Taux de Faux Positifs')\n",
    "    axes[1].set_ylabel('Taux de Vrais Positifs')\n",
    "    axes[1].set_title(f'Courbe ROC - {nom_modele}', fontweight='bold')\n",
    "    axes[1].legend()\n",
    "    axes[1].grid(True, alpha=0.3)\n",
    "    \n",
    "    plt.tight_layout()\n",
    "    plt.show()\n",
    "    \n",
    "    return {\n",
    "        'model': model,\n",
    "        'accuracy': accuracy,\n",
    "        'f1_score': f1,\n",
    "        'roc_auc': roc_auc,\n",
    "        'y_pred': y_pred,\n",
    "        'y_pred_proba': y_pred_proba\n",
    "    }\n",
    "\n",
    "print(\"✅ Fonction d'évaluation créée\")"
   ]
  },
  {
   "cell_type": "markdown",
   "metadata": {},
   "source": [
    "---\n",
    "## 🎯 À COMPLÉTER : Entraînement des Modèles\n",
    "\n",
    "### Modèle 1 : Régression Logistique (Baseline)"
   ]
  },
  {
   "cell_type": "code",
   "execution_count": null,
   "metadata": {},
   "outputs": [],
   "source": [
    "# TODO: Entraîner et évaluer la Régression Logistique\n",
    "# modele_lr = LogisticRegression(class_weight='balanced', max_iter=1000, random_state=42)\n",
    "# resultats_lr = evaluer_modele(modele_lr, X_train_scaled, X_test_scaled, y_train, y_test, \"Régression Logistique\")"
   ]
  },
  {
   "cell_type": "markdown",
   "metadata": {},
   "source": [
    "### Modèle 2 : Random Forest"
   ]
  },
  {
   "cell_type": "code",
   "execution_count": null,
   "metadata": {},
   "outputs": [],
   "source": [
    "# TODO: Entraîner et évaluer Random Forest\n",
    "# modele_rf = RandomForestClassifier(n_estimators=100, max_depth=10, class_weight='balanced', random_state=42)\n",
    "# resultats_rf = evaluer_modele(modele_rf, X_train, X_test, y_train, y_test, \"Random Forest\")"
   ]
  },
  {
   "cell_type": "markdown",
   "metadata": {},
   "source": [
    "### Modèle 3 : XGBoost (Champion)"
   ]
  },
  {
   "cell_type": "code",
   "execution_count": null,
   "metadata": {},
   "outputs": [],
   "source": [
    "# TODO: Entraîner et évaluer XGBoost\n",
    "# scale_pos_weight = y_train.value_counts()[0] / y_train.value_counts()[1]\n",
    "# modele_xgb = XGBClassifier(scale_pos_weight=scale_pos_weight, max_depth=5, learning_rate=0.1, n_estimators=100, random_state=42)\n",
    "# resultats_xgb = evaluer_modele(modele_xgb, X_train, X_test, y_train, y_test, \"XGBoost\")"
   ]
  },
  {
   "cell_type": "markdown",
   "metadata": {},
   "source": [
    "---\n",
    "## 📊 Comparaison des Modèles"
   ]
  },
  {
   "cell_type": "code",
   "execution_count": null,
   "metadata": {},
   "outputs": [],
   "source": [
    "# TODO: Comparer les performances des 3 modèles\n",
    "# Créer un DataFrame de comparaison avec accuracy, f1_score, roc_auc"
   ]
  },
  {
   "cell_type": "markdown",
   "metadata": {},
   "source": [
    "---\n",
    "## 🔍 Interprétabilité : Feature Importance"
   ]
  },
  {
   "cell_type": "code",
   "execution_count": null,
   "metadata": {},
   "outputs": [],
   "source": [
    "# TODO: Afficher l'importance des features du meilleur modèle\n",
    "# Pour Random Forest et XGBoost : model.feature_importances_"
   ]
  },
  {
   "cell_type": "markdown",
   "metadata": {},
   "source": [
    "---\n",
    "## 📝 Conclusions et Prochaines Étapes\n",
    "\n",
    "### Résultats obtenus :\n",
    "- [ ] Modèle baseline (Régression Logistique) entraîné\n",
    "- [ ] Random Forest entraîné\n",
    "- [ ] XGBoost entraîné\n",
    "- [ ] Comparaison des performances effectuée\n",
    "- [ ] Feature importance analysée\n",
    "\n",
    "### Améliorations possibles :\n",
    "1. **Optimisation des hyperparamètres** (GridSearchCV, RandomizedSearchCV)\n",
    "2. **SMOTE** pour rééquilibrer le dataset\n",
    "3. **Feature Engineering** supplémentaire\n",
    "4. **SHAP values** pour l'interprétabilité XGBoost\n",
    "5. **Calibration** des probabilités\n",
    "6. **Ensemble methods** (stacking, voting)\n",
    "\n",
    "### Impact Business :\n",
    "- Meilleur ciblage des campagnes marketing\n",
    "- Optimisation du budget marketing\n",
    "- Augmentation du ROI des campagnes\n",
    "\n",
    "---\n",
    "\n",
    "**Date de dernière mise à jour :** [À compléter]\n",
    "\n",
    "**Auteur :** [Votre nom]\n",
    "\n",
    "**Projet :** Rush 4 - Segmentation Clients"
   ]
  }
 ],
 "metadata": {
  "kernelspec": {
   "display_name": "Python 3",
   "language": "python",
   "name": "python3"
  },
  "language_info": {
   "codemirror_mode": {
    "name": "ipython",
    "version": 3
   },
   "file_extension": ".py",
   "mimetype": "text/x-python",
   "name": "python",
   "nbconvert_exporter": "python",
   "pygments_lexer": "ipython3",
   "version": "3.9.6"
  }
 },
 "nbformat": 4,
 "nbformat_minor": 4
}
